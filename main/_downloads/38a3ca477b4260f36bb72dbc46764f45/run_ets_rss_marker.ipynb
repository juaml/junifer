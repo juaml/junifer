{
  "cells": [
    {
      "cell_type": "code",
      "execution_count": null,
      "metadata": {
        "collapsed": false
      },
      "outputs": [],
      "source": [
        "%matplotlib inline"
      ]
    },
    {
      "cell_type": "markdown",
      "metadata": {},
      "source": [
        "\n# Extracting root sum of squares from edge-wise timeseries.\nThis example uses a RSSETSMarker to compute root sum of squares\nof the edge-wise timeseries using the Schaefer atlas\n(100 rois and 200 rois, 17 Yeo networks) for a 4D nifti BOLD file.\n\nAuthors: Leonard Sasse, Sami Hamdan, Nicolas Nieto, Synchon Mandal\n\nLicense: BSD 3 clause\n"
      ]
    },
    {
      "cell_type": "code",
      "execution_count": null,
      "metadata": {
        "collapsed": false
      },
      "outputs": [],
      "source": [
        "import tempfile\n\nimport junifer.testing.registry  # noqa: F401\nfrom junifer.utils import configure_logging"
      ]
    },
    {
      "cell_type": "markdown",
      "metadata": {},
      "source": [
        "Set the logging level to info to see extra information:\n\n"
      ]
    },
    {
      "cell_type": "code",
      "execution_count": null,
      "metadata": {
        "collapsed": false
      },
      "outputs": [],
      "source": [
        "configure_logging(level=\"INFO\")"
      ]
    },
    {
      "cell_type": "markdown",
      "metadata": {},
      "source": [
        "Define the markers you want:\n\n"
      ]
    },
    {
      "cell_type": "code",
      "execution_count": null,
      "metadata": {
        "collapsed": false
      },
      "outputs": [],
      "source": [
        "marker_dicts = [\n    {\n        \"name\": \"Schaefer100x17_RSSETS\",\n        \"kind\": \"RSSETSMarker\",\n        \"atlas\": \"Schaefer100x17\",\n    },\n    {\n        \"name\": \"Schaefer200x17_RSSETS\",\n        \"kind\": \"RSSETSMarker\",\n        \"atlas\": \"Schaefer200x17\",\n    },\n]"
      ]
    },
    {
      "cell_type": "markdown",
      "metadata": {},
      "source": [
        "Create a temporary directory for junifer feature extraction:\nAt the end you can read the extracted data into a ``pandas.DataFrame``.\n\n"
      ]
    },
    {
      "cell_type": "code",
      "execution_count": null,
      "metadata": {
        "collapsed": false
      },
      "outputs": [],
      "source": [
        "with tempfile.TemporaryDirectory() as tmpdir:\n\n    storage = {\"kind\": \"SQLiteFeatureStorage\", \"uri\": f\"{tmpdir}/test.db\"}\n    # run the defined junifer feature extraction pipeline\n    # TODO: needs SQLiteFeatureStorage.store_timeseries() to be\n    # implemented first\n    # run(\n    #     workdir=\"/tmp\",\n    #     datagrabber={\"kind\": \"SPMAuditoryTestingDatagrabber\"},\n    #     markers=marker_dicts,\n    #     storage=storage,\n    # )\n\n    # read in extracted features and add confounds and targets\n    # for julearn run cross validation\n    # This will not run for now as store_timeseries() is not implemented yet\n    # collect(storage)\n    # db = SQLiteFeatureStorage(uri=storage[\"uri\"], single_output=True)\n    # df_vbm = db.read_df(feature_name=\"Schaefer100x17\")"
      ]
    }
  ],
  "metadata": {
    "kernelspec": {
      "display_name": "Python 3",
      "language": "python",
      "name": "python3"
    },
    "language_info": {
      "codemirror_mode": {
        "name": "ipython",
        "version": 3
      },
      "file_extension": ".py",
      "mimetype": "text/x-python",
      "name": "python",
      "nbconvert_exporter": "python",
      "pygments_lexer": "ipython3",
      "version": "3.9.13"
    }
  },
  "nbformat": 4,
  "nbformat_minor": 0
}