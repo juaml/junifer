{
  "cells": [
    {
      "cell_type": "code",
      "execution_count": null,
      "metadata": {
        "collapsed": false
      },
      "outputs": [],
      "source": [
        "%matplotlib inline"
      ]
    },
    {
      "cell_type": "markdown",
      "metadata": {},
      "source": [
        "\n# UKB VBM GMD Extraction\n\nAuthors: Federico Raimondo\n\nLicense: BSD 3 clause\n"
      ]
    },
    {
      "cell_type": "code",
      "execution_count": null,
      "metadata": {
        "collapsed": false
      },
      "outputs": [],
      "source": [
        "from junifer.api import run_pipeline\n\nmarkers = [\n    {'name': 'Schaefer1000x7_TrimMean80',\n     'kind': 'ParcelAggregation',\n     'atlas': 'Schaefer1000x7',\n     'method': 'trimmean80'},\n    {'name': 'Schaefer1000x7_Mean',\n     'kind': 'ParcelAggregation',\n     'atlas': 'Schaefer1000x7',\n     'method': 'mean'},\n    {'name': 'Schaefer1000x7_Std',\n     'kind': 'ParcelAggregation',\n     'atlas': 'Schaefer1000x7',\n     'method': 'std'}\n]\n\nrun_pipeline(\n    workdir='/tmp',\n    datagrabber='JuselessUKBVBM',\n    element=('sub-1627474', 'ses-2'),\n    markers=markers,\n    storage='SQLDataFrameStorage',\n    storage_params={'outpath': '/data/project/juniferexample'},\n)"
      ]
    }
  ],
  "metadata": {
    "kernelspec": {
      "display_name": "Python 3",
      "language": "python",
      "name": "python3"
    },
    "language_info": {
      "codemirror_mode": {
        "name": "ipython",
        "version": 3
      },
      "file_extension": ".py",
      "mimetype": "text/x-python",
      "name": "python",
      "nbconvert_exporter": "python",
      "pygments_lexer": "ipython3",
      "version": "3.8.13"
    }
  },
  "nbformat": 4,
  "nbformat_minor": 0
}