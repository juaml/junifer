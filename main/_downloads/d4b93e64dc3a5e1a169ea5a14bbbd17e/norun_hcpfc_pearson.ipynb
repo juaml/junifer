{
  "cells": [
    {
      "cell_type": "code",
      "execution_count": null,
      "metadata": {
        "collapsed": false
      },
      "outputs": [],
      "source": [
        "%matplotlib inline"
      ]
    },
    {
      "cell_type": "markdown",
      "metadata": {},
      "source": [
        "\n# SyntaxError\n\nExample script with invalid Python syntax\n\n"
      ]
    },
    {
      "cell_type": "code",
      "execution_count": null,
      "metadata": {
        "collapsed": false
      },
      "outputs": [],
      "source": [
        "\"\"\"\nHCP FC Extraction\n======================\nAuthors: Leonard Sasse\nLicense: BSD 3 clause\n\"\"\"\n\n\nfrom junifer.api import run_pipeline\n\nmarkers = [\n    {'name': 'Power264_FCPearson',\n     'kind': 'FunctionalConnectivity',\n     'atlas': 'Power264',\n     'method': 'Pearson',\n     'confound_strategy': 'Params36'},\n    {'name': 'Schaefer400x17_FCPearson',\n     'kind': 'FunctionalConnectivity',\n     'atlas': 'Schaefer400x17',\n     'method': 'Pearson',\n     'confound_strategy': 'Params24'},\n    {'name': 'Power264_FCSpearman',\n     'kind': 'FunctionalConnectivity',\n     'atlas': 'Power264',\n     'method': 'Spearman'\n     'confound_strategy': 'ICAAROMA'},\n    {'name': 'Schaefer400x17_FCSpearman',\n     'kind': 'FunctionalConnectivity',\n     'atlas': 'Schaefer400x17',\n     'method': 'Spearman'\n     'confound_strategy': 'path/to/predefined/confound_file.tsv'}\n]\n\nrun_pipeline(\n    workdir='/tmp',\n    datagrabber='HCPOpenAccess',\n    element='100408',\n    markers=markers,\n    storage='SQLDataFrameStorage',\n    storage_params={'outpath': '/data/project/juniferexample'},\n)"
      ]
    }
  ],
  "metadata": {
    "kernelspec": {
      "display_name": "Python 3",
      "language": "python",
      "name": "python3"
    },
    "language_info": {
      "codemirror_mode": {
        "name": "ipython",
        "version": 3
      },
      "file_extension": ".py",
      "mimetype": "text/x-python",
      "name": "python",
      "nbconvert_exporter": "python",
      "pygments_lexer": "ipython3",
      "version": "3.8.12"
    }
  },
  "nbformat": 4,
  "nbformat_minor": 0
}