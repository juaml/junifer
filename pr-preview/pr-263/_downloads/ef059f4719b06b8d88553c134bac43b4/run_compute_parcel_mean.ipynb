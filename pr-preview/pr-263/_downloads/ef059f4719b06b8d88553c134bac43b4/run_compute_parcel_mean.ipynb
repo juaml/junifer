{
  "cells": [
    {
      "cell_type": "markdown",
      "metadata": {},
      "source": [
        "\n# Computer Parcel Aggregation.\n\nThis example uses a ParcelAggregation marker to compute the mean of each parcel\nusing the Schaefer parcellations (100 rois, 7 Yeo networks) for both a 3D and\n4D nifti\n\nAuthors: Federico Raimondo\n\nLicense: BSD 3 clause\n"
      ]
    },
    {
      "cell_type": "code",
      "execution_count": null,
      "metadata": {
        "collapsed": false
      },
      "outputs": [],
      "source": [
        "import nilearn\n\nfrom junifer.markers.parcel_aggregation import ParcelAggregation\nfrom junifer.utils import configure_logging"
      ]
    },
    {
      "cell_type": "markdown",
      "metadata": {},
      "source": [
        "Set the logging level to info to see extra information\n\n"
      ]
    },
    {
      "cell_type": "code",
      "execution_count": null,
      "metadata": {
        "collapsed": false
      },
      "outputs": [],
      "source": [
        "configure_logging(level=\"INFO\")"
      ]
    },
    {
      "cell_type": "markdown",
      "metadata": {},
      "source": [
        "Load the VBM GM data (3d):\n- Fetch the Oasis dataset\n\n"
      ]
    },
    {
      "cell_type": "code",
      "execution_count": null,
      "metadata": {
        "collapsed": false
      },
      "outputs": [],
      "source": [
        "oasis_dataset = nilearn.datasets.fetch_oasis_vbm(n_subjects=1)\nvbm_fname = oasis_dataset.gray_matter_maps[0]\nvbm_img = nilearn.image.load_img(vbm_fname)"
      ]
    },
    {
      "cell_type": "markdown",
      "metadata": {},
      "source": [
        "Load the functional data (4d):\n- Fetch the SPM auditory dataset\n- Concatenate the functional data into one 4D image\n\n"
      ]
    },
    {
      "cell_type": "code",
      "execution_count": null,
      "metadata": {
        "collapsed": false
      },
      "outputs": [],
      "source": [
        "s_func_data = nilearn.datasets.fetch_spm_auditory()\nfmri_img = nilearn.image.concat_imgs(s_func_data.func)"
      ]
    },
    {
      "cell_type": "markdown",
      "metadata": {},
      "source": [
        "Define the marker\n\n"
      ]
    },
    {
      "cell_type": "code",
      "execution_count": null,
      "metadata": {
        "collapsed": false
      },
      "outputs": [],
      "source": [
        "marker = ParcelAggregation(parcellation=\"Schaefer100x7\", method=\"mean\")"
      ]
    },
    {
      "cell_type": "markdown",
      "metadata": {},
      "source": [
        "Prepare the input\n\n"
      ]
    },
    {
      "cell_type": "code",
      "execution_count": null,
      "metadata": {
        "collapsed": false
      },
      "outputs": [],
      "source": [
        "input = {\n    \"BOLD\": {\"data\": fmri_img, \"meta\": {\"element\": \"subject1\"}},\n    \"VBM_GM\": {\"data\": vbm_img, \"meta\": {\"element\": \"subject1\"}},\n}"
      ]
    },
    {
      "cell_type": "markdown",
      "metadata": {},
      "source": [
        "Fit transform the data\n\n"
      ]
    },
    {
      "cell_type": "code",
      "execution_count": null,
      "metadata": {
        "collapsed": false
      },
      "outputs": [],
      "source": [
        "out = marker.fit_transform(input)"
      ]
    },
    {
      "cell_type": "markdown",
      "metadata": {},
      "source": [
        "Check the results\n\n"
      ]
    },
    {
      "cell_type": "code",
      "execution_count": null,
      "metadata": {
        "collapsed": false
      },
      "outputs": [],
      "source": [
        "print(out.keys())\nprint(out[\"VBM_GM\"][\"data\"].shape)  # Shape is (1 x parcels)\n\nprint(out.keys())\nprint(out[\"BOLD\"][\"data\"].shape)  # Shape is (timepoints x parcels)"
      ]
    }
  ],
  "metadata": {
    "kernelspec": {
      "display_name": "Python 3",
      "language": "python",
      "name": "python3"
    },
    "language_info": {
      "codemirror_mode": {
        "name": "ipython",
        "version": 3
      },
      "file_extension": ".py",
      "mimetype": "text/x-python",
      "name": "python",
      "nbconvert_exporter": "python",
      "pygments_lexer": "ipython3",
      "version": "3.10.13"
    }
  },
  "nbformat": 4,
  "nbformat_minor": 0
}