{
  "cells": [
    {
      "cell_type": "markdown",
      "metadata": {},
      "source": [
        "\n# Generic BIDS DataGrabber for datalad.\n\nThis example uses a generic BIDS DataGraber to get the data from a BIDS dataset\nstore in a datalad remote sibling.\n\nAuthors: Federico Raimondo\n\nLicense: BSD 3 clause\n"
      ]
    },
    {
      "cell_type": "code",
      "execution_count": null,
      "metadata": {
        "collapsed": false
      },
      "outputs": [],
      "source": [
        "from junifer.datagrabber import PatternDataladDataGrabber\nfrom junifer.utils import configure_logging"
      ]
    },
    {
      "cell_type": "markdown",
      "metadata": {},
      "source": [
        "Set the logging level to info to see extra information\n\n"
      ]
    },
    {
      "cell_type": "code",
      "execution_count": null,
      "metadata": {
        "collapsed": false
      },
      "outputs": [],
      "source": [
        "configure_logging(level=\"INFO\")"
      ]
    },
    {
      "cell_type": "markdown",
      "metadata": {},
      "source": [
        "The BIDS DataGrabber requires three parameters: the types of data we want,\nthe specific pattern that matches each type, and the variables that will be\nreplaced in the patterns.\n\n"
      ]
    },
    {
      "cell_type": "code",
      "execution_count": null,
      "metadata": {
        "collapsed": false
      },
      "outputs": [],
      "source": [
        "types = [\"T1w\", \"BOLD\"]\npatterns = {\n    \"T1w\": \"{subject}/anat/{subject}_T1w.nii.gz\",\n    \"BOLD\": \"{subject}/func/{subject}_task-rest_bold.nii.gz\",\n}\nreplacements = [\"subject\"]"
      ]
    },
    {
      "cell_type": "markdown",
      "metadata": {},
      "source": [
        "Additionally, a datalad-based DataGrabber requires the URI of the remote\nsibling and the location of the dataset within the remote sibling.\n\n"
      ]
    },
    {
      "cell_type": "code",
      "execution_count": null,
      "metadata": {
        "collapsed": false
      },
      "outputs": [],
      "source": [
        "repo_uri = \"https://gin.g-node.org/juaml/datalad-example-bids\"\nrootdir = \"example_bids\""
      ]
    },
    {
      "cell_type": "markdown",
      "metadata": {},
      "source": [
        "Now we can use the DataGrabber within a `with` context.\nOne thing we can do with any DataGrabber is iterate over the elements.\nIn this case, each element of the DataGrabber is one session.\n\n"
      ]
    },
    {
      "cell_type": "code",
      "execution_count": null,
      "metadata": {
        "collapsed": false
      },
      "outputs": [],
      "source": [
        "with PatternDataladDataGrabber(\n    rootdir=rootdir,\n    types=types,\n    patterns=patterns,\n    uri=repo_uri,\n    replacements=replacements,\n) as dg:\n    for elem in dg:\n        print(elem)"
      ]
    },
    {
      "cell_type": "markdown",
      "metadata": {},
      "source": [
        "Another feature of the DataGrabber is the ability to get a specific\nelement by its name. In this case, we index `sub-01` and we get the file\npaths for the two types of data we want (T1w and BOLD).\n\n"
      ]
    },
    {
      "cell_type": "code",
      "execution_count": null,
      "metadata": {
        "collapsed": false
      },
      "outputs": [],
      "source": [
        "with PatternDataladDataGrabber(\n    rootdir=rootdir,\n    types=types,\n    patterns=patterns,\n    uri=repo_uri,\n    replacements=replacements,\n) as dg:\n    sub01 = dg[\"sub-01\"]\n    print(sub01)"
      ]
    }
  ],
  "metadata": {
    "kernelspec": {
      "display_name": "Python 3",
      "language": "python",
      "name": "python3"
    },
    "language_info": {
      "codemirror_mode": {
        "name": "ipython",
        "version": 3
      },
      "file_extension": ".py",
      "mimetype": "text/x-python",
      "name": "python",
      "nbconvert_exporter": "python",
      "pygments_lexer": "ipython3",
      "version": "3.10.13"
    }
  },
  "nbformat": 4,
  "nbformat_minor": 0
}