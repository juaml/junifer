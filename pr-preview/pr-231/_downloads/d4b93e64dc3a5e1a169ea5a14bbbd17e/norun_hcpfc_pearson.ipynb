{
  "cells": [
    {
      "cell_type": "markdown",
      "metadata": {},
      "source": [
        "\n# HCP FC Extraction\n\nAuthors: Leonard Sasse\nLicense: BSD 3 clause\n"
      ]
    },
    {
      "cell_type": "code",
      "execution_count": null,
      "metadata": {
        "collapsed": false
      },
      "outputs": [],
      "source": [
        "from junifer.api import run\n\n\ndatagrabber = {\n    \"kind\": \"HCPOpenAccess\",\n    \"modality\": \"fMRI\",\n    \"preprocessed\": \"ICA+FIX\",\n    \"space\": \"volumetric\",\n}\n\ncustom_confound_strategy = {\n    \"filter\": \"butterworth\",\n    \"detrend\": True,\n    \"high_pass\": 0.01,\n    \"low_pass\": 0.08,\n    \"standardize\": True,\n    \"confounds\": [\"csf\", \"wm\", \"gsr\"],\n    \"derivatives\": True,\n    \"squares\": True,\n    \"other\": [],\n}\n\nmarkers = [\n    {\n        \"name\": \"Power264_FCPearson\",\n        \"kind\": \"FunctionalConnectivity\",\n        \"parcellation\": \"Power264\",\n        \"method\": \"Pearson\",\n        \"confound_strategy\": \"Params36\",\n    },\n    {\n        \"name\": \"Schaefer400x17_FCPearson\",\n        \"kind\": \"FunctionalConnectivity\",\n        \"parcellation\": \"Schaefer400x17\",\n        \"method\": \"Pearson\",\n        \"confound_strategy\": \"Params24\",\n    },\n    {\n        \"name\": \"Power264_FCSpearman\",\n        \"kind\": \"FunctionalConnectivity\",\n        \"parcellation\": \"Power264\",\n        \"method\": \"Spearman\",\n        \"confound_strategy\": \"ICAAROMA\",\n    },\n    {\n        \"name\": \"Schaefer400x17_FCSpearman\",\n        \"kind\": \"FunctionalConnectivity\",\n        \"parcellation\": \"Schaefer400x17\",\n        \"method\": \"Spearman\",\n        \"confound_strategy\": \"path/to/predefined/confound_file.tsv\",\n    },\n    {\n        \"name\": \"Schaefer400x17_FCSpearman\",\n        \"kind\": \"FunctionalConnectivity\",\n        \"parcellation\": \"Schaefer400x17\",\n        \"method\": \"Spearman\",\n        \"confound_strategy\": custom_confound_strategy,\n    },\n]\n\nstorage = {\n    \"kind\": \"SQLiteFeatureStorage\",\n    \"uri\": \"/data/project/juniferexample\",\n}\n\nrun(\n    workdir=\"/tmp\",\n    datagrabber=datagrabber,\n    elements=[(\"100408\", \"REST1\", \"LR\")],\n    markers=markers,\n    storage=storage,\n)"
      ]
    }
  ],
  "metadata": {
    "kernelspec": {
      "display_name": "Python 3",
      "language": "python",
      "name": "python3"
    },
    "language_info": {
      "codemirror_mode": {
        "name": "ipython",
        "version": 3
      },
      "file_extension": ".py",
      "mimetype": "text/x-python",
      "name": "python",
      "nbconvert_exporter": "python",
      "pygments_lexer": "ipython3",
      "version": "3.12.12"
    }
  },
  "nbformat": 4,
  "nbformat_minor": 0
}