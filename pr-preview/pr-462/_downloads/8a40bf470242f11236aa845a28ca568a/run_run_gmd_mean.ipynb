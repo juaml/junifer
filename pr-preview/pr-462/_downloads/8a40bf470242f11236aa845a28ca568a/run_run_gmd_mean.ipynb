{
  "cells": [
    {
      "cell_type": "markdown",
      "metadata": {},
      "source": [
        "\n# UKB VBM GMD Extraction\n\nAuthors: Federico Raimondo\n\nLicense: BSD 3 clause\n"
      ]
    },
    {
      "cell_type": "code",
      "execution_count": null,
      "metadata": {
        "collapsed": false
      },
      "outputs": [],
      "source": [
        "import tempfile\n\nimport junifer.testing.registry  # noqa: F401\nfrom junifer.api import run\n\n\ndatagrabber = {\n    \"kind\": \"OasisVBMTestingDataGrabber\",\n}\n\nmarkers = [\n    {\n        \"name\": \"Schaefer1000x7_TrimMean80\",\n        \"kind\": \"ParcelAggregation\",\n        \"parcellation\": \"Schaefer1000x7\",\n        \"method\": \"trim_mean\",\n        \"method_params\": {\"proportiontocut\": 0.2},\n    },\n    {\n        \"name\": \"Schaefer1000x7_Mean\",\n        \"kind\": \"ParcelAggregation\",\n        \"parcellation\": \"Schaefer1000x7\",\n        \"method\": \"mean\",\n    },\n    {\n        \"name\": \"Schaefer1000x7_Std\",\n        \"kind\": \"ParcelAggregation\",\n        \"parcellation\": \"Schaefer1000x7\",\n        \"method\": \"std\",\n    },\n]\n\nstorage = {\n    \"kind\": \"SQLiteFeatureStorage\",\n}\n\nwith tempfile.TemporaryDirectory() as tmpdir:\n    uri = f\"{tmpdir}/test.sqlite\"\n    storage[\"uri\"] = uri\n    run(\n        workdir=\"/tmp\",\n        datagrabber=datagrabber,\n        markers=markers,\n        storage=storage,\n    )"
      ]
    }
  ],
  "metadata": {
    "kernelspec": {
      "display_name": "Python 3",
      "language": "python",
      "name": "python3"
    },
    "language_info": {
      "codemirror_mode": {
        "name": "ipython",
        "version": 3
      },
      "file_extension": ".py",
      "mimetype": "text/x-python",
      "name": "python",
      "nbconvert_exporter": "python",
      "pygments_lexer": "ipython3",
      "version": "3.12.11"
    }
  },
  "nbformat": 4,
  "nbformat_minor": 0
}