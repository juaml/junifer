{
  "cells": [
    {
      "cell_type": "markdown",
      "metadata": {},
      "source": [
        "\n# Extracting root sum of squares from edge-wise timeseries.\nThis example uses a ``RSSETSMarker`` to compute root sum of squares\nof the edge-wise timeseries using the Schaefer parcellation\n(100 rois and 200 rois, 17 Yeo networks) for a 4D nifti BOLD file.\n\nAuthors: Leonard Sasse, Sami Hamdan, Nicolas Nieto, Synchon Mandal\n\nLicense: BSD 3 clause\n"
      ]
    },
    {
      "cell_type": "code",
      "execution_count": null,
      "metadata": {
        "collapsed": false
      },
      "outputs": [],
      "source": [
        "import tempfile\n\nimport junifer.testing.registry  # noqa: F401\nfrom junifer.api import collect, run\nfrom junifer.storage import SQLiteFeatureStorage\nfrom junifer.utils import configure_logging"
      ]
    },
    {
      "cell_type": "markdown",
      "metadata": {},
      "source": [
        "Set the logging level to info to see extra information:\n\n"
      ]
    },
    {
      "cell_type": "code",
      "execution_count": null,
      "metadata": {
        "collapsed": false
      },
      "outputs": [],
      "source": [
        "configure_logging(level=\"INFO\")"
      ]
    },
    {
      "cell_type": "markdown",
      "metadata": {},
      "source": [
        "Define the DataGrabber interface\n\n"
      ]
    },
    {
      "cell_type": "code",
      "execution_count": null,
      "metadata": {
        "collapsed": false
      },
      "outputs": [],
      "source": [
        "datagrabber = {\n    \"kind\": \"SPMAuditoryTestingDataGrabber\",\n}"
      ]
    },
    {
      "cell_type": "markdown",
      "metadata": {},
      "source": [
        "Define the markers interface\n\n"
      ]
    },
    {
      "cell_type": "code",
      "execution_count": null,
      "metadata": {
        "collapsed": false
      },
      "outputs": [],
      "source": [
        "markers = [\n    {\n        \"name\": \"Schaefer100x17_RSSETS\",\n        \"kind\": \"RSSETSMarker\",\n        \"parcellation\": \"Schaefer100x17\",\n    },\n    {\n        \"name\": \"Schaefer200x17_RSSETS\",\n        \"kind\": \"RSSETSMarker\",\n        \"parcellation\": \"Schaefer200x17\",\n    },\n]"
      ]
    },
    {
      "cell_type": "markdown",
      "metadata": {},
      "source": [
        "Create a temporary directory for junifer feature extraction:\nAt the end you can read the extracted data into a ``pandas.DataFrame``.\n\n"
      ]
    },
    {
      "cell_type": "code",
      "execution_count": null,
      "metadata": {
        "collapsed": false
      },
      "outputs": [],
      "source": [
        "with tempfile.TemporaryDirectory() as tmpdir:\n    # Define the storage interface\n    storage = {\n        \"kind\": \"SQLiteFeatureStorage\",\n        \"uri\": f\"{tmpdir}/test.sqlite\",\n    }\n    # Run the defined junifer feature extraction pipeline\n    run(\n        workdir=tmpdir,\n        datagrabber=datagrabber,\n        markers=markers,\n        storage=storage,\n        elements=[\"sub001\"],  # we calculate for one subject only\n    )\n    # Collect extracted features data\n    collect(storage=storage)\n    # Create storage object to read in extracted features\n    db = SQLiteFeatureStorage(uri=storage[\"uri\"])\n\n    # List all the features\n    print(db.list_features())\n    # Read extracted features\n    df_vbm = db.read_df(feature_name=\"BOLD_Schaefer100x17_RSSETS\")"
      ]
    },
    {
      "cell_type": "markdown",
      "metadata": {},
      "source": [
        "Now we take a look at the dataframe\n\n"
      ]
    },
    {
      "cell_type": "code",
      "execution_count": null,
      "metadata": {
        "collapsed": false
      },
      "outputs": [],
      "source": [
        "df_vbm.head()"
      ]
    }
  ],
  "metadata": {
    "kernelspec": {
      "display_name": "Python 3",
      "language": "python",
      "name": "python3"
    },
    "language_info": {
      "codemirror_mode": {
        "name": "ipython",
        "version": 3
      },
      "file_extension": ".py",
      "mimetype": "text/x-python",
      "name": "python",
      "nbconvert_exporter": "python",
      "pygments_lexer": "ipython3",
      "version": "3.11.7"
    }
  },
  "nbformat": 4,
  "nbformat_minor": 0
}