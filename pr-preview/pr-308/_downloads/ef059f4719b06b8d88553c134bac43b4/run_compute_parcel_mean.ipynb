{
  "cells": [
    {
      "cell_type": "markdown",
      "metadata": {},
      "source": [
        "\n# Computer Parcel Aggregation.\n\nThis example uses the ``ParcelAggregation`` marker to compute the mean of each\nparcel using the Schaefer parcellations (100 rois, 7 Yeo networks) for both 3D\nand 4D NIfTI.\n\nAuthors: Federico Raimondo, Synchon Mandal\n\nLicense: BSD 3 clause\n"
      ]
    },
    {
      "cell_type": "code",
      "execution_count": null,
      "metadata": {
        "collapsed": false
      },
      "outputs": [],
      "source": [
        "from junifer.testing.datagrabbers import (\n    OasisVBMTestingDataGrabber,\n    SPMAuditoryTestingDataGrabber,\n)\nfrom junifer.datareader import DefaultDataReader\nfrom junifer.markers import ParcelAggregation\nfrom junifer.utils import configure_logging"
      ]
    },
    {
      "cell_type": "markdown",
      "metadata": {},
      "source": [
        "Set the logging level to info to see extra information\n\n"
      ]
    },
    {
      "cell_type": "code",
      "execution_count": null,
      "metadata": {
        "collapsed": false
      },
      "outputs": [],
      "source": [
        "configure_logging(level=\"INFO\")"
      ]
    },
    {
      "cell_type": "markdown",
      "metadata": {},
      "source": [
        "Perform parcel aggregation on VBM GM data (3D) from OASIS dataset\n\n"
      ]
    },
    {
      "cell_type": "code",
      "execution_count": null,
      "metadata": {
        "collapsed": false
      },
      "outputs": [],
      "source": [
        "with OasisVBMTestingDataGrabber() as dg:\n    # Get the first element\n    element = dg.get_elements()[0]\n    # Read the element\n    element_data = DefaultDataReader().fit_transform(dg[element])\n    # Initialize marker\n    marker = ParcelAggregation(parcellation=\"Schaefer100x7\", method=\"mean\")\n    # Compute feature\n    feature = marker.fit_transform(element_data)\n    # Print the output\n    print(feature.keys())\n    print(feature[\"VBM_GM\"][\"data\"].shape)  # Shape is (1 x parcels)"
      ]
    },
    {
      "cell_type": "markdown",
      "metadata": {},
      "source": [
        "Perform parcel aggregation on BOLD data (4D) from SPM Auditory dataset\n\n"
      ]
    },
    {
      "cell_type": "code",
      "execution_count": null,
      "metadata": {
        "collapsed": false
      },
      "outputs": [],
      "source": [
        "with SPMAuditoryTestingDataGrabber() as dg:\n    # Get the first element\n    element = dg.get_elements()[0]\n    # Read the element\n    element_data = DefaultDataReader().fit_transform(dg[element])\n    # Initialize marker\n    marker = ParcelAggregation(\n        parcellation=\"Schaefer100x7\", method=\"mean\", on=\"BOLD\"\n    )\n    # Compute feature\n    feature = marker.fit_transform(element_data)\n    # Print the output\n    print(feature.keys())\n    print(feature[\"BOLD\"][\"data\"].shape)  # Shape is (timepoints x parcels)"
      ]
    }
  ],
  "metadata": {
    "kernelspec": {
      "display_name": "Python 3",
      "language": "python",
      "name": "python3"
    },
    "language_info": {
      "codemirror_mode": {
        "name": "ipython",
        "version": 3
      },
      "file_extension": ".py",
      "mimetype": "text/x-python",
      "name": "python",
      "nbconvert_exporter": "python",
      "pygments_lexer": "ipython3",
      "version": "3.11.8"
    }
  },
  "nbformat": 4,
  "nbformat_minor": 0
}