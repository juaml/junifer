{
  "cells": [
    {
      "cell_type": "markdown",
      "metadata": {},
      "source": [
        "\n# Run junifer and julearn.\n\nThis example uses a ParcelAggregation marker to compute the mean of each parcel\nusing the Schaefer parcellation (100 rois, 7 Yeo networks) for a 3D nifti to\nextract some features for machine learning using julearn to predict some other\ndata.\n\nAuthors: Leonard Sasse, Sami Hamdan, Nicolas Nieto, Synchon Mandal\n\nLicense: BSD 3 clause\n"
      ]
    },
    {
      "cell_type": "code",
      "execution_count": null,
      "metadata": {
        "collapsed": false
      },
      "outputs": [],
      "source": [
        "import tempfile\n\nimport nilearn\nimport pandas as pd\nfrom julearn import run_cross_validation, PipelineCreator\n\nimport junifer.testing.registry  # noqa: F401\nfrom junifer.api import collect, run\nfrom junifer.storage.sqlite import SQLiteFeatureStorage\nfrom junifer.utils import configure_logging"
      ]
    },
    {
      "cell_type": "markdown",
      "metadata": {},
      "source": [
        "Set the logging level to info to see extra information:\n\n"
      ]
    },
    {
      "cell_type": "code",
      "execution_count": null,
      "metadata": {
        "collapsed": false
      },
      "outputs": [],
      "source": [
        "configure_logging(level=\"INFO\")"
      ]
    },
    {
      "cell_type": "markdown",
      "metadata": {},
      "source": [
        "Define the markers you want:\n\n"
      ]
    },
    {
      "cell_type": "code",
      "execution_count": null,
      "metadata": {
        "collapsed": false
      },
      "outputs": [],
      "source": [
        "marker_dicts = [\n    {\n        \"name\": \"Schaefer100x17_TrimMean80\",\n        \"kind\": \"ParcelAggregation\",\n        \"parcellation\": \"Schaefer100x17\",\n        \"method\": \"trim_mean\",\n        \"method_params\": {\"proportiontocut\": 0.2},\n    },\n    {\n        \"name\": \"Schaefer200x17_Mean\",\n        \"kind\": \"ParcelAggregation\",\n        \"parcellation\": \"Schaefer200x17\",\n        \"method\": \"mean\",\n    },\n]"
      ]
    },
    {
      "cell_type": "markdown",
      "metadata": {},
      "source": [
        "Define target and confounds for julearn machine learning:\n\n"
      ]
    },
    {
      "cell_type": "code",
      "execution_count": null,
      "metadata": {
        "collapsed": false
      },
      "outputs": [],
      "source": [
        "y = \"age\"\nconfound = \"sex\""
      ]
    },
    {
      "cell_type": "markdown",
      "metadata": {},
      "source": [
        "Load the VBM phenotype data for machine learning data:\n- Fetch the Oasis dataset\n\n"
      ]
    },
    {
      "cell_type": "code",
      "execution_count": null,
      "metadata": {
        "collapsed": false
      },
      "outputs": [],
      "source": [
        "oasis_dataset = nilearn.datasets.fetch_oasis_vbm()\nage = oasis_dataset.ext_vars[y][:10]\nsex = (\n    pd.Series(oasis_dataset.ext_vars[\"mf\"][:10])\n    .map(lambda x: 1 if x == \"F\" else 0)\n    .values\n)"
      ]
    },
    {
      "cell_type": "markdown",
      "metadata": {},
      "source": [
        "Create a temporary directory for junifer feature extraction:\n\n"
      ]
    },
    {
      "cell_type": "code",
      "execution_count": null,
      "metadata": {
        "collapsed": false
      },
      "outputs": [],
      "source": [
        "with tempfile.TemporaryDirectory() as tmpdir:\n    storage = {\"kind\": \"SQLiteFeatureStorage\", \"uri\": f\"{tmpdir}/test.sqlite\"}\n    # run the defined junifer feature extraction pipeline\n    run(\n        workdir=\"/tmp\",\n        datagrabber={\"kind\": \"OasisVBMTestingDataGrabber\"},\n        markers=marker_dicts,\n        storage=storage,\n    )\n\n    # read in extracted features and add confounds and targets\n    # for julearn run cross validation\n    collect(storage)\n    db = SQLiteFeatureStorage(uri=storage[\"uri\"])\n\n    df_vbm = db.read_df(feature_name=\"VBM_GM_Schaefer200x17_Mean\")\n    oasis_subjects = [x[0] for x in df_vbm.index]\n    df_vbm.index = oasis_subjects"
      ]
    },
    {
      "cell_type": "markdown",
      "metadata": {},
      "source": [
        "Using julearn for machine learning:\nWe predict the age given our vbm features and sex as a confound.\n\n"
      ]
    },
    {
      "cell_type": "code",
      "execution_count": null,
      "metadata": {
        "collapsed": false
      },
      "outputs": [],
      "source": [
        "X = list(df_vbm.columns)\ndf_vbm[y] = age\ndf_vbm[confound] = sex\n\nX_types = {\n    \"features\": X,\n    \"confound\": confound,\n}\n\ncreator = PipelineCreator(problem_type=\"regression\", apply_to=\"features\")\ncreator.add(\"zscore\", apply_to=[\"features\", \"confound\"])\ncreator.add(\"confound_removal\", apply_to=\"features\", confounds=\"confound\")\ncreator.add(\"ridge\")\n\nscores = run_cross_validation(\n    X=X + [confound],\n    y=y,\n    X_types=X_types,\n    data=df_vbm,\n    model=creator,\n    cv=3,\n)\nprint(scores)"
      ]
    },
    {
      "cell_type": "markdown",
      "metadata": {},
      "source": [
        "Interpretation of results:\nDoing machine learning with only 10 datapoints is not meaningful.\nThis explains the big variation in scores\nfor different cross-validation folds.\n\n"
      ]
    }
  ],
  "metadata": {
    "kernelspec": {
      "display_name": "Python 3",
      "language": "python",
      "name": "python3"
    },
    "language_info": {
      "codemirror_mode": {
        "name": "ipython",
        "version": 3
      },
      "file_extension": ".py",
      "mimetype": "text/x-python",
      "name": "python",
      "nbconvert_exporter": "python",
      "pygments_lexer": "ipython3",
      "version": "3.10.13"
    }
  },
  "nbformat": 4,
  "nbformat_minor": 0
}