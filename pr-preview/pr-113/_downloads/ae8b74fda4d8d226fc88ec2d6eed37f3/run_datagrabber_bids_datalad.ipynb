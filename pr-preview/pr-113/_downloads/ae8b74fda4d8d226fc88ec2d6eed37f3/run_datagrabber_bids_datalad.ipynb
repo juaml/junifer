{
  "cells": [
    {
      "cell_type": "code",
      "execution_count": null,
      "metadata": {
        "collapsed": false
      },
      "outputs": [],
      "source": [
        "%matplotlib inline"
      ]
    },
    {
      "cell_type": "markdown",
      "metadata": {},
      "source": [
        "\n# Generic BIDS datagrabber for datalad.\n\nThis example uses a generic BIDS datagraber to get the data from a BIDS dataset\nstore in a datalad remote sibling.\n\nAuthors: Federico Raimondo\n\nLicense: BSD 3 clause\n"
      ]
    },
    {
      "cell_type": "code",
      "execution_count": null,
      "metadata": {
        "collapsed": false
      },
      "outputs": [],
      "source": [
        "from junifer.datagrabber import PatternDataladDataGrabber\nfrom junifer.utils import configure_logging"
      ]
    },
    {
      "cell_type": "markdown",
      "metadata": {},
      "source": [
        "Set the logging level to info to see extra information\n\n"
      ]
    },
    {
      "cell_type": "code",
      "execution_count": null,
      "metadata": {
        "collapsed": false
      },
      "outputs": [],
      "source": [
        "configure_logging(level=\"INFO\")"
      ]
    },
    {
      "cell_type": "markdown",
      "metadata": {},
      "source": [
        "The BIDS datagrabber requires three parameters: the types of data we want,\nthe specific pattern that matches each type, and the variables that will be\nreplaced int he patterns.\n\n"
      ]
    },
    {
      "cell_type": "code",
      "execution_count": null,
      "metadata": {
        "collapsed": false
      },
      "outputs": [],
      "source": [
        "types = [\"T1w\", \"bold\"]\npatterns = {\n    \"T1w\": \"{subject}/anat/{subject}_T1w.nii.gz\",\n    \"bold\": \"{subject}/func/{subject}_task-rest_bold.nii.gz\",\n}\nreplacements = [\"subject\"]"
      ]
    },
    {
      "cell_type": "markdown",
      "metadata": {},
      "source": [
        "Additionally, a datalad datagrabber requires the URI of the remote sibling\nand the location of the dataset within the remote sibling.\n\n"
      ]
    },
    {
      "cell_type": "code",
      "execution_count": null,
      "metadata": {
        "collapsed": false
      },
      "outputs": [],
      "source": [
        "repo_uri = \"https://gin.g-node.org/juaml/datalad-example-bids\"\nrootdir = \"example_bids\""
      ]
    },
    {
      "cell_type": "markdown",
      "metadata": {},
      "source": [
        "Now we can use the datagrabber within a `with` context\nOne thing we can do with any datagrabber is iterate over the elements.\nIn this case, each element of the datagrabber is one session.\n\n"
      ]
    },
    {
      "cell_type": "code",
      "execution_count": null,
      "metadata": {
        "collapsed": false
      },
      "outputs": [],
      "source": [
        "with PatternDataladDataGrabber(\n    rootdir=rootdir,\n    types=types,\n    patterns=patterns,\n    uri=repo_uri,\n    replacements=replacements,\n) as dg:\n    for elem in dg:\n        print(elem)"
      ]
    },
    {
      "cell_type": "markdown",
      "metadata": {},
      "source": [
        "Another feature of the datagrabber is the ability to get a specific\nelement by its name. In this case, we index `sub-01` and we get the file\npaths for the two types of data we want (T1w and bold).\n\n"
      ]
    },
    {
      "cell_type": "code",
      "execution_count": null,
      "metadata": {
        "collapsed": false
      },
      "outputs": [],
      "source": [
        "with PatternDataladDataGrabber(\n    rootdir=rootdir,\n    types=types,\n    patterns=patterns,\n    uri=repo_uri,\n    replacements=replacements,\n) as dg:\n    sub01 = dg[\"sub-01\"]\n    print(sub01)"
      ]
    }
  ],
  "metadata": {
    "kernelspec": {
      "display_name": "Python 3",
      "language": "python",
      "name": "python3"
    },
    "language_info": {
      "codemirror_mode": {
        "name": "ipython",
        "version": 3
      },
      "file_extension": ".py",
      "mimetype": "text/x-python",
      "name": "python",
      "nbconvert_exporter": "python",
      "pygments_lexer": "ipython3",
      "version": "3.9.15"
    }
  },
  "nbformat": 4,
  "nbformat_minor": 0
}